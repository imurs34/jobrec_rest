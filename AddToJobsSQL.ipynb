{
 "cells": [
  {
   "cell_type": "code",
   "execution_count": null,
   "metadata": {},
   "outputs": [],
   "source": [
    "#!/usr/bin/python\n",
    "# -*- coding: utf-8 -*-\n",
    "\n",
    "import sqlite3 as lite\n",
    "import sys\n",
    "\n",
    "# Retrive data from HTML\n",
    "# ...\n",
    "\n",
    "# Store user data in variables\n",
    "fn = 'Jeongyeon'\n",
    "ln = 'Kim'\n",
    "email = 'imurs4825@gmail.com'\n",
    "gender = 'female'\n",
    "bday = '1995-07-24'\n",
    "nation = 'Asian'\n",
    "degree = 'bachelor'\n",
    "comment = 'Hello'\n",
    "\n",
    "# Connect to SQLite3\n",
    "con = lite.connect('users.db')\n",
    "\n",
    "with con:\n",
    "    \n",
    "    '''\n",
    "    # Count the number of users\n",
    "    cursor = con.cursor()\n",
    "    cursor.execute(\"SELECT count(*) FROM Cars\")\n",
    "    result = cursor.fetchone()\n",
    "    print(result[0])\n",
    "    \n",
    "    cur.execute(\"CREATE TABLE Users(Id INT, FirstName TEXT, LastName TEXT, Email TEXT, Comment TEXT)\")\n",
    "    '''\n",
    "    cursor = con.cursor()\n",
    "    cursor.execute(\"CREATE TABLE Users(Id INTEGER PRIMARY KEY AUTOINCREMENT, FirstName TEXT, LastName TEXT, Email TEXT, Comment TEXT)\")\n",
    "    cursor.execute(\"INSERT INTO Users (FirstName, Lastname, Email, Comment) VALUES(?, ?, ?, ?, ?, ?, ?, ?)\", (fn, ln, email, gender, bday, nation, degree, comment))\n",
    "    "
   ]
  }
 ],
 "metadata": {
  "kernelspec": {
   "display_name": "Python 2",
   "language": "python",
   "name": "python2"
  },
  "language_info": {
   "codemirror_mode": {
    "name": "ipython",
    "version": 2
   },
   "file_extension": ".py",
   "mimetype": "text/x-python",
   "name": "python",
   "nbconvert_exporter": "python",
   "pygments_lexer": "ipython2",
   "version": "2.7.12"
  }
 },
 "nbformat": 4,
 "nbformat_minor": 2
}
