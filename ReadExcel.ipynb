{
 "cells": [
  {
   "cell_type": "code",
   "execution_count": null,
   "metadata": {},
   "outputs": [],
   "source": [
    "# Read data from excel file\n",
    "# Input: excel file name\n",
    "# Output: list of categories, dict of jobs\n",
    "import xlrd\n",
    "from xlrd import open_workbook\n",
    "\n",
    "def ReadExcel( filename ):\n",
    "    filename += '.xlsx'\n",
    "    wb = open_workbook(filename)\n",
    "    n = 0\n",
    "    for s in wb.sheets():\n",
    "        dlist = []\n",
    "        for col in range(s.ncols):\n",
    "            n += 1\n",
    "            row_value = []\n",
    "            for row in range(s.nrows):\n",
    "                if(s.cell(row, col).value):\n",
    "                    value  = (s.cell(row, col).value)\n",
    "                    try : value = str((value))\n",
    "                    except : pass\n",
    "                    row_value.append(value)\n",
    "            dlist.append(row_value)\n",
    "            \n",
    "    categories = list()\n",
    "    jobs_dict = dict()\n",
    "    \n",
    "    for col in dlist:\n",
    "        jobs = list()\n",
    "        category = col[0]\n",
    "        categories.append(category)\n",
    "        jobs = col[1:]\n",
    "        jobs_dict[category] = jobs\n",
    "        \n",
    "    \n",
    "    return categories, jobs_dict"
   ]
  }
 ],
 "metadata": {
  "kernelspec": {
   "display_name": "Python 2",
   "language": "python",
   "name": "python2"
  },
  "language_info": {
   "codemirror_mode": {
    "name": "ipython",
    "version": 2
   },
   "file_extension": ".py",
   "mimetype": "text/x-python",
   "name": "python",
   "nbconvert_exporter": "python",
   "pygments_lexer": "ipython2",
   "version": "2.7.12"
  }
 },
 "nbformat": 4,
 "nbformat_minor": 2
}
