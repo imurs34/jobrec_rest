{
 "cells": [
  {
   "cell_type": "code",
   "execution_count": 8,
   "metadata": {},
   "outputs": [],
   "source": [
    "import sqlite3\n",
    "\n",
    "%run ReadExcel.ipynb\n",
    "\n",
    "categories = (ReadExcel('1099 job Categories')[0])\n",
    "jobs_dict = (ReadExcel('1099 job Categories')[1])\n",
    "\n",
    "con = sqlite3.connect('jobs.sqlite3')\n",
    "\n",
    "with con:\n",
    "    cursor = con.cursor()\n",
    "    \n",
    "    for key, value in jobs_dict.iteritems():\n",
    "        for job in value:\n",
    "            cursor.execute(\"SELECT * FROM rest_job\")\n",
    "            cursor.execute(\"INSERT INTO rest_job (title, link, category) VALUES(?, ?, ?)\", (job, 'bogus', key))"
   ]
  }
 ],
 "metadata": {
  "kernelspec": {
   "display_name": "Python 2",
   "language": "python",
   "name": "python2"
  },
  "language_info": {
   "codemirror_mode": {
    "name": "ipython",
    "version": 2
   },
   "file_extension": ".py",
   "mimetype": "text/x-python",
   "name": "python",
   "nbconvert_exporter": "python",
   "pygments_lexer": "ipython2",
   "version": "2.7.12"
  }
 },
 "nbformat": 4,
 "nbformat_minor": 2
}
